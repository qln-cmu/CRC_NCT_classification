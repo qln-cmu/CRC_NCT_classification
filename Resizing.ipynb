{
 "cells": [
  {
   "cell_type": "code",
   "execution_count": 1,
   "id": "0714ab78",
   "metadata": {},
   "outputs": [
    {
     "name": "stdout",
     "output_type": "stream",
     "text": [
      "Image dimensions: 1120 pixels x 1120 pixels\n"
     ]
    }
   ],
   "source": [
    "from PIL import Image\n",
    "\n",
    "# Open an image file\n",
    "image = Image.open(\"try.tif\")\n",
    "\n",
    "# Get the dimensions of the image\n",
    "width, height = image.size\n",
    "\n",
    "# Print the image dimensions\n",
    "print(f\"Image dimensions: {width} pixels x {height} pixels\")\n"
   ]
  },
  {
   "cell_type": "code",
   "execution_count": 2,
   "id": "5b01ed45",
   "metadata": {},
   "outputs": [],
   "source": [
    "# Code to change the pixels to a A X A pixels, Here A = 50\n",
    "\n",
    "from PIL import Image\n",
    "import os\n",
    "\n",
    "# Directory containing the images\n",
    "input_directory = \"input_folder\"\n",
    "\n",
    "# Directory to save the resized images\n",
    "output_directory = \"output_folder_new_MPP\"\n",
    "\n",
    "# Define the new width and height (50x50 pixels)\n",
    "new_width = 50\n",
    "new_height = 50\n",
    "\n",
    "# Ensure the output directory exists\n",
    "os.makedirs(output_directory, exist_ok=True)\n",
    "\n",
    "# Loop through each image in the input directory\n",
    "for filename in os.listdir(input_directory):\n",
    "    if filename.endswith(\".jpg\") or filename.endswith(\".tif\"):\n",
    "        # Open the image\n",
    "        image = Image.open(os.path.join(input_directory, filename))\n",
    "\n",
    "        # Resize the image to the specified dimensions\n",
    "        resized_image = image.resize((new_width, new_height))\n",
    "\n",
    "        # Save the resized image to the output directory\n",
    "        resized_image.save(os.path.join(output_directory, filename))\n"
   ]
  },
  {
   "cell_type": "code",
   "execution_count": 3,
   "id": "3575d7a0",
   "metadata": {},
   "outputs": [
    {
     "name": "stderr",
     "output_type": "stream",
     "text": [
      "C:\\Users\\Shashwata\\AppData\\Local\\Temp\\ipykernel_1884\\1806734259.py:36: DeprecationWarning: ANTIALIAS is deprecated and will be removed in Pillow 10 (2023-07-01). Use LANCZOS or Resampling.LANCZOS instead.\n",
      "  resized_image = input_image.resize((new_width, new_height), Image.ANTIALIAS)\n"
     ]
    },
    {
     "name": "stdout",
     "output_type": "stream",
     "text": [
      "All images resized and saved in the output folder.\n"
     ]
    }
   ],
   "source": [
    "#Code to change the MPP\n",
    "\n",
    "from PIL import Image\n",
    "import os\n",
    "\n",
    "# Folder containing the input images\n",
    "input_folder = 'input_folder'\n",
    "\n",
    "# Output folder for resized images\n",
    "output_folder = 'output_folder_new_MPP_1'\n",
    "\n",
    "# Target MPP\n",
    "target_mpp = 0.75  # Microns per pixel\n",
    "\n",
    "# Create the output folder if it doesn't exist\n",
    "if not os.path.exists(output_folder):\n",
    "    os.makedirs(output_folder)\n",
    "\n",
    "# Iterate through the images in the input folder\n",
    "for filename in os.listdir(input_folder):\n",
    "    if filename.endswith('.jpg') or filename.endswith('.tif'):\n",
    "        # Load the image\n",
    "        input_image = Image.open(os.path.join(input_folder, filename))\n",
    "        \n",
    "        # Current MPP\n",
    "        current_mpp = 0.5  # Microns per pixel\n",
    "\n",
    "        # Calculate the resizing factor\n",
    "        resize_factor = current_mpp / target_mpp\n",
    "\n",
    "        # Calculate the new size of the image\n",
    "        new_width = int(input_image.width * resize_factor)\n",
    "        new_height = int(input_image.height * resize_factor)\n",
    "\n",
    "        # Resize the image\n",
    "        resized_image = input_image.resize((new_width, new_height), Image.ANTIALIAS)\n",
    "\n",
    "        # Save the resized image to the output folder\n",
    "        output_path = os.path.join(output_folder, filename)\n",
    "        resized_image.save(output_path)\n",
    "\n",
    "print(\"All images resized and saved in the output folder.\")\n"
   ]
  },
  {
   "cell_type": "code",
   "execution_count": 4,
   "id": "a093c04b",
   "metadata": {},
   "outputs": [
    {
     "name": "stdout",
     "output_type": "stream",
     "text": [
      "Requirement already satisfied: tqdm in c:\\users\\shashwata\\anaconda3\\lib\\site-packages (4.65.0)\n",
      "Requirement already satisfied: colorama in c:\\users\\shashwata\\anaconda3\\lib\\site-packages (from tqdm) (0.4.6)\n",
      "Note: you may need to restart the kernel to use updated packages.\n"
     ]
    }
   ],
   "source": [
    "pip install tqdm\n"
   ]
  },
  {
   "cell_type": "code",
   "execution_count": null,
   "id": "ecd024d3",
   "metadata": {},
   "outputs": [
    {
     "data": {
      "application/vnd.jupyter.widget-view+json": {
       "model_id": "3e483a47ee8e4c2db3d3a3c5f0f14ec9",
       "version_major": 2,
       "version_minor": 0
      },
      "text/plain": [
       "Processing:   0%|          | 0/10 [00:00<?, ?item/s]"
      ]
     },
     "metadata": {},
     "output_type": "display_data"
    }
   ],
   "source": [
    "# Using multiprocessing tool\n",
    "\n",
    "from PIL import Image\n",
    "import os\n",
    "from multiprocessing import Pool\n",
    "\n",
    "from tqdm.notebook import tqdm\n",
    "import time\n",
    "\n",
    "# Example loop\n",
    "for i in tqdm(range(10), desc=\"Processing\", unit=\"item\"):\n",
    "    # Your code here\n",
    "    time.sleep(0.1)  # Simulate some work\n",
    "\n",
    "\n",
    "def resize_image(input_image_path, output_folder, target_mpp):\n",
    "    input_image = Image.open(input_image_path)\n",
    "    \n",
    "    # Current MPP (you may need to dynamically calculate this)\n",
    "    current_mpp = 0.5  # Microns per pixel\n",
    "\n",
    "    # Calculate the resizing factor\n",
    "    resize_factor = current_mpp / target_mpp\n",
    "\n",
    "    # Calculate the new size of the image\n",
    "    new_width = int(input_image.width * resize_factor)\n",
    "    new_height = int(input_image.height * resize_factor)\n",
    "\n",
    "    # Resize the image\n",
    "    resized_image = input_image.resize((new_width, new_height), Image.ANTIALIAS)\n",
    "\n",
    "    # Save the resized image to the output folder\n",
    "    output_path = os.path.join(output_folder, os.path.basename(input_image_path))\n",
    "    resized_image.save(output_path)\n",
    "\n",
    "if __name__ == '__main__':\n",
    "    # Folder containing the input images\n",
    "    input_folder = 'input_folder'\n",
    "\n",
    "    # Output folder for resized images\n",
    "    output_folder = 'output_folder_new_MPP_0.75'\n",
    "\n",
    "    # Target MPP\n",
    "    target_mpp = 0.75  # Microns per pixel\n",
    "\n",
    "    # Create the output folder if it doesn't exist\n",
    "    if not os.path.exists(output_folder):\n",
    "        os.makedirs(output_folder)\n",
    "\n",
    "    # List of input image paths\n",
    "    input_image_paths = [os.path.join(input_folder, filename) for filename in os.listdir(input_folder) \n",
    "                         if filename.endswith('.jpg') or filename.endswith('.tif')]\n",
    "\n",
    "    # Number of processes (adjust as needed)\n",
    "    num_processes = os.cpu_count()\n",
    "\n",
    "    with Pool(num_processes) as pool:\n",
    "        # Use the `starmap` method to pass multiple arguments to the function\n",
    "        pool.starmap(resize_image, [(path, output_folder, target_mpp) for path in input_image_paths])\n",
    "\n",
    "    print(\"All images resized and saved in the output folder.\")\n"
   ]
  },
  {
   "cell_type": "code",
   "execution_count": null,
   "id": "10078964",
   "metadata": {},
   "outputs": [],
   "source": [
    "from PIL import Image\n",
    "import os\n",
    "\n",
    "def calculate_resized_mpp(current_mpp, current_dimension, new_dimension):\n",
    "    \"\"\"\n",
    "    Calculate the resized Microns per Pixel (MPP) after resizing an image.\n",
    "\n",
    "    Parameters:\n",
    "    - current_mpp: Microns per Pixel in the original image.\n",
    "    - current_dimension: Width or height of the original image in pixels.\n",
    "    - new_dimension: Width or height of the resized image in pixels.\n",
    "\n",
    "    Returns:\n",
    "    - resized_mpp: Microns per Pixel in the resized image.\n",
    "    \"\"\"\n",
    "    resized_mpp = (current_mpp * current_dimension) / new_dimension\n",
    "    return resized_mpp\n",
    "\n",
    "# Directory containing the images\n",
    "input_directory = \"input_folder\"\n",
    "\n",
    "# Directory to save the resized images\n",
    "output_directory = \"output_folder_new_MPP\"\n",
    "\n",
    "# Define the new width and height (50x50 pixels)\n",
    "new_width = 50\n",
    "new_height = 50\n",
    "\n",
    "# Current MPP of the original images (replace with the actual MPP)\n",
    "current_mpp = 0.5  # replace with the actual MPP\n",
    "\n",
    "# Ensure the output directory exists\n",
    "os.makedirs(output_directory, exist_ok=True)\n",
    "\n",
    "# Loop through each image in the input directory\n",
    "for filename in os.listdir(input_directory):\n",
    "    if filename.endswith(\".jpg\") or filename.endswith(\".tif\"):\n",
    "        # Open the image\n",
    "        image = Image.open(os.path.join(input_directory, filename))\n",
    "\n",
    "        # Resize the image to the specified dimensions\n",
    "        resized_image = image.resize((new_width, new_height))\n",
    "\n",
    "        # Calculate the resized MPP\n",
    "        resized_mpp_x = calculate_resized_mpp(current_mpp, image.width, new_width)\n",
    "        resized_mpp_y = calculate_resized_mpp(current_mpp, image.height, new_height)\n",
    "\n",
    "        print(f\"Resized MPP (X-direction): {resized_mpp_x} µm/pixel\")\n",
    "        print(f\"Resized MPP (Y-direction): {resized_mpp_y} µm/pixel\")\n",
    "\n",
    "        # Save the resized image to the output directory\n",
    "        resized_image.save(os.path.join(output_directory, filename))\n"
   ]
  },
  {
   "cell_type": "code",
   "execution_count": null,
   "id": "778d4541",
   "metadata": {},
   "outputs": [],
   "source": [
    "os.cpu_count()\n"
   ]
  },
  {
   "cell_type": "code",
   "execution_count": null,
   "id": "e5cd6ad0",
   "metadata": {},
   "outputs": [],
   "source": []
  }
 ],
 "metadata": {
  "kernelspec": {
   "display_name": "Python 3 (ipykernel)",
   "language": "python",
   "name": "python3"
  },
  "language_info": {
   "codemirror_mode": {
    "name": "ipython",
    "version": 3
   },
   "file_extension": ".py",
   "mimetype": "text/x-python",
   "name": "python",
   "nbconvert_exporter": "python",
   "pygments_lexer": "ipython3",
   "version": "3.11.4"
  }
 },
 "nbformat": 4,
 "nbformat_minor": 5
}
